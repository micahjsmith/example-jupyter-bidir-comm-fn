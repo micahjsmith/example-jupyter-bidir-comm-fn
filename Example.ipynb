{
 "cells": [
  {
   "cell_type": "code",
   "execution_count": 1,
   "metadata": {
    "collapsed": true
   },
   "outputs": [],
   "source": [
    "from ex import a"
   ]
  },
  {
   "cell_type": "code",
   "execution_count": 2,
   "metadata": {
    "collapsed": false
   },
   "outputs": [
    {
     "data": {
      "application/javascript": [
       "// Guard against re-execution.\n",
       "if (IPython.notebook.kernel) {\n",
       "    console.log(\"beginning of js\");\n",
       "    var handle_output = function(out){\n",
       "        console.log(out.msg_type);\n",
       "        console.log(out);\n",
       "\n",
       "        var res = null;\n",
       "        if (out.msg_type == \"stream\"){\n",
       "            res = out.content.text;\n",
       "        }\n",
       "        // if output is a python object\n",
       "        else if(out.msg_type === \"execute_result\"){\n",
       "            res = out.content.data[\"text/plain\"];\n",
       "        }\n",
       "        // if output is a python error\n",
       "        else if(out.msg_type == \"error\"){\n",
       "            res = out.content.ename + \": \" + out.content.evalue;\n",
       "        }\n",
       "        // if output is something we haven't thought of\n",
       "        else{\n",
       "            res = \"[out type not implemented]\";  \n",
       "        }\n",
       "        console.log(res);\n",
       "    };\n",
       "    var callback = {\n",
       "        iopub: {\n",
       "            output : handle_output,\n",
       "        }\n",
       "    };\n",
       "    var options = {\n",
       "        silent : false,\n",
       "    };\n",
       "\n",
       "    var description = prompt(\"Set description\", \"default\");\n",
       "    var command = \"a.description_store.set_description('\" + description + \"')\";\n",
       "    console.log(\"executing \" + command);\n",
       "    var kernel = IPython.notebook.kernel\n",
       "    kernel.execute(command, callback, options);\n",
       "\n",
       "    console.log(\"end of js\");\n",
       "}\n"
      ]
     },
     "metadata": {},
     "output_type": "display_data"
    },
    {
     "name": "stdout",
     "output_type": "stream",
     "text": [
      "Timed out waiting for set_description event.\n",
      "Description: \n"
     ]
    },
    {
     "data": {
      "text/plain": [
       "''"
      ]
     },
     "execution_count": 2,
     "metadata": {},
     "output_type": "execute_result"
    }
   ],
   "source": [
    "a.prompt_user()"
   ]
  }
 ],
 "metadata": {
  "kernelspec": {
   "display_name": "Python 3",
   "language": "python",
   "name": "python3"
  },
  "language_info": {
   "codemirror_mode": {
    "name": "ipython",
    "version": 3
   },
   "file_extension": ".py",
   "mimetype": "text/x-python",
   "name": "python",
   "nbconvert_exporter": "python",
   "pygments_lexer": "ipython3",
   "version": "3.5.2"
  }
 },
 "nbformat": 4,
 "nbformat_minor": 2
}
